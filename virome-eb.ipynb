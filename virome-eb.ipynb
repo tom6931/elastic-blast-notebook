{
 "cells": [
  {
   "cell_type": "markdown",
   "metadata": {},
   "source": [
    "# Elastic-BLAST RDRP in Jupyter notebook\n"
   ]
  },
  {
   "cell_type": "markdown",
   "metadata": {},
   "source": [
    "### Requirements\n",
    "Please, see the [requirements.txt](https://github.com/boratyng/elastic-blast-notebook/blob/main/requirements.txt) file for required python packages."
   ]
  },
  {
   "cell_type": "code",
   "execution_count": null,
   "metadata": {},
   "outputs": [],
   "source": [
    "import os\n",
    "from uuid import uuid4\n",
    "import pandas as pd\n",
    "import matplotlib\n",
    "import matplotlib.pyplot as plt\n",
    "import seaborn as sns\n",
    "%matplotlib inline"
   ]
  },
  {
   "cell_type": "markdown",
   "metadata": {},
   "source": [
    "## Set up AWS credentials\n",
    "You need to provide credentials for your AWS user account so that Elastic-BLAST can use cloud resources. Generating and providing user credentials is described here: https://docs.aws.amazon.com/cli/latest/userguide/cli-configure-quickstart.html. There are two steps to this process:\n",
    "1. Create a key pair via AWS console: https://console.aws.amazon.com/iam/\n",
    "1. Paste AWS access key and AWS secret access key in the code below (remember to use quotes as these are python strings)\n",
    "\n",
    "Note that these keys authenticate your AWS account and anyone who has them has access to your account. We recommend creating new keys for working with this notebook and inactivating them when you are done."
   ]
  },
  {
   "cell_type": "code",
   "execution_count": null,
   "metadata": {},
   "outputs": [],
   "source": [
    "os.environ['AWS_ACCESS_KEY_ID'] =\n",
    "os.environ['AWS_SECRET_ACCESS_KEY'] =\n",
    "os.environ['AWS_DEFAULT_REGION'] = 'us-east-1'"
   ]
  },
  {
   "cell_type": "markdown",
   "metadata": {},
   "source": [
    "## Create results bucket (if one does not exist)\n",
    "Elastic-BLAST saves results in a cloud bucket. If you already have a cloud bucket in AWS, you can just provide its name."
   ]
  },
  {
   "cell_type": "markdown",
   "metadata": {},
   "source": [
    "### Name the results bucket\n",
    "Select a name for your results bucket or provide your bucket name. Please, remember that bucket names must be  globally unique. You can either edit _YOURNAME_ variable or change value of _RESULTS_BUCKET_ variable."
   ]
  },
  {
   "cell_type": "code",
   "execution_count": null,
   "metadata": {},
   "outputs": [],
   "source": [
    "YOURNAME = str(uuid4())[:8]\n",
    "RESULTS_BUCKET = f'elasticblast-{YOURNAME}'\n",
    "print(f'Your results bucket: s3://{RESULTS_BUCKET}')"
   ]
  },
  {
   "cell_type": "markdown",
   "metadata": {},
   "source": [
    "### Create results bucket\n",
    "Skip if the bucket already exists."
   ]
  },
  {
   "cell_type": "code",
   "execution_count": null,
   "metadata": {},
   "outputs": [],
   "source": [
    "!aws s3 mb s3://{RESULTS_BUCKET}"
   ]
  },
  {
   "cell_type": "markdown",
   "metadata": {},
   "source": [
    "## Optional: Enable Elastic-BLAST Auto-shutdown feature\n",
    "This feature enables ElasticBLAST to monitor its status and shutdown cloud resources in the event of failures or successful search completion. It needs to be done only once per AWS user. If this feature is not enables you will need to run `elastic-blast delete` to delete cloud resources. Please, see https://blast.ncbi.nlm.nih.gov/doc/elastic-blast/janitor.html for more information. "
   ]
  },
  {
   "cell_type": "code",
   "execution_count": null,
   "metadata": {},
   "outputs": [],
   "source": [
    "!sed -i~ -e '/export PATH/d' $(which aws-create-elastic-blast-janitor-role.sh)\n",
    "!aws-create-elastic-blast-janitor-role.sh"
   ]
  },
  {
   "cell_type": "markdown",
   "metadata": {},
   "source": [
    "## Elastic-BLAST config\n",
    "Below is the contents of Elastic-BLAST configuration file, borrowed from [Elastic-BLAST AWS Quickstart]( https://blast.ncbi.nlm.nih.gov/doc/elastic-blast/quickstart-aws.html), and code that writes it to a file named _BDQA.ini_."
   ]
  },
  {
   "cell_type": "code",
   "execution_count": null,
   "metadata": {},
   "outputs": [],
   "source": [
    "conf_file = 'BDQA.ini'\n",
    "conf = f\"\"\"[cloud-provider]\n",
    "aws-region = us-east-1\n",
    "\n",
    "[cluster]\n",
    "num-nodes = 5\n",
    "labels = owner={YOURNAME}\n",
    "\n",
    "[blast]\n",
    "program = blastp\n",
    "db = s3://elasticblast-test/db/wolf18/RNAvirome.S2\n",
    "queries = s3://elasticblast-test/queries/BDQA01.1.fsa_aa\n",
    "results = s3://{RESULTS_BUCKET}\n",
    "options = -task blastp-fast -evalue 0.01 -outfmt \"7\"\n",
    "\"\"\"\n",
    "\n",
    "with open(conf_file, 'w') as f:\n",
    "    print(conf, file=f)"
   ]
  },
  {
   "cell_type": "markdown",
   "metadata": {},
   "source": [
    "## Submit Elastic-BLAST search\n",
    "Run the cell below to submit Elastic-BLAST search. It will take a few minutes."
   ]
  },
  {
   "cell_type": "code",
   "execution_count": null,
   "metadata": {},
   "outputs": [],
   "source": [
    "!elastic-blast submit --cfg {conf_file}"
   ]
  },
  {
   "cell_type": "markdown",
   "metadata": {},
   "source": [
    "## Check search status\n",
    "The cell below checks search status. Elastic-BLAST splits query sequences into parts. _elastic-blast status_ command shows how many of these parts are pending, running, completed, or completed. When the whole search is done you will see only the message: \"Your Elastic-BLAST search succeeded ...\" or \"Your Elastic-BLAST search failed ...\""
   ]
  },
  {
   "cell_type": "code",
   "execution_count": null,
   "metadata": {},
   "outputs": [],
   "source": [
    "!elastic-blast status --cfg {conf_file}"
   ]
  },
  {
   "cell_type": "markdown",
   "metadata": {},
   "source": [
    "## Wait until the search is done\n",
    "Run the cell below to wait until the search is done."
   ]
  },
  {
   "cell_type": "code",
   "execution_count": null,
   "metadata": {},
   "outputs": [],
   "source": [
    "!elastic-blast status --cfg {conf_file} --wait"
   ]
  },
  {
   "cell_type": "markdown",
   "metadata": {},
   "source": [
    "## Download results\n",
    "When the search is done, download results."
   ]
  },
  {
   "cell_type": "code",
   "execution_count": null,
   "metadata": {},
   "outputs": [],
   "source": [
    "!aws s3 cp s3://{RESULTS_BUCKET}/ . --exclude \"*\" --include \"*.out.gz\" --recursive"
   ]
  },
  {
   "cell_type": "markdown",
   "metadata": {},
   "source": [
    "## Uncompress and merge results\n",
    "Elastic-BLAST produces compressed results files for each batch of queries. We are going to uncompress them and merge them into one file."
   ]
  },
  {
   "cell_type": "code",
   "execution_count": null,
   "metadata": {},
   "outputs": [],
   "source": [
    "!gzip -d batch_*.gz\n",
    "!cat batch_*.out | grep -v ^# >results.tab\n",
    "!head results.tab"
   ]
  },
  {
   "cell_type": "markdown",
   "metadata": {},
   "source": [
    "## Analyze results\n",
    "\n",
    "We are extracting column names from a comment line of output format 7. "
   ]
  },
  {
   "cell_type": "code",
   "execution_count": null,
   "metadata": {},
   "outputs": [],
   "source": [
    "with open('batch_000-blastp-RNAvirome.S2.out') as f:\n",
    "    for line in f:\n",
    "        if 'Fields:' not in line:\n",
    "            continue\n",
    "        columns = [col.strip() for col in line[9:].rstrip().split(',')]\n",
    "        break\n",
    "columns"
   ]
  },
  {
   "cell_type": "markdown",
   "metadata": {},
   "source": [
    "Load search results into a pandas dataframe and show a snippet of results in tabular format."
   ]
  },
  {
   "cell_type": "code",
   "execution_count": null,
   "metadata": {},
   "outputs": [],
   "source": [
    "hits = pd.read_csv('results.tab', sep='\\t', names=columns)\n",
    "hits"
   ]
  },
  {
   "cell_type": "markdown",
   "metadata": {},
   "source": [
    "Let's look at distribution of super kingdoms of database sequences matched by query sequences."
   ]
  },
  {
   "cell_type": "code",
   "execution_count": null,
   "metadata": {},
   "outputs": [],
   "source": [
    "hits[['query acc.ver', 'subject super kingdoms']].drop_duplicates()['subject super kingdoms'].value_counts()"
   ]
  },
  {
   "cell_type": "markdown",
   "metadata": {},
   "source": [
    "And the distribution of species."
   ]
  },
  {
   "cell_type": "code",
   "execution_count": null,
   "metadata": {},
   "outputs": [],
   "source": [
    "counts = hits[['query acc.ver', 'subject sci name']].drop_duplicates()['subject sci name'].value_counts()\n",
    "counts"
   ]
  },
  {
   "cell_type": "markdown",
   "metadata": {},
   "source": [
    "Below is a histogram for top 30 species. "
   ]
  },
  {
   "cell_type": "code",
   "execution_count": null,
   "metadata": {},
   "outputs": [],
   "source": [
    "top_counts = counts[:30]\n",
    "plt.figure(figsize=(14, 9))\n",
    "ax = sns.barplot(y=top_counts.index, x=top_counts)\n",
    "ax.set_xticks(range(max(top_counts + 1)))\n",
    "ax.set_xlabel('Number of query matches')\n",
    "ax.set_ylabel(top_counts.name)\n",
    "plt.grid();"
   ]
  },
  {
   "cell_type": "markdown",
   "metadata": {},
   "source": [
    "## Clean up cloud resources\n",
    "### Delete Elastic-BLAST queue and compute environment in AWS\n",
    "If you did not enable Elastic-BLAST auto-shutdown feature, the AWS Batch queue and compute environment have to be deleted manually."
   ]
  },
  {
   "cell_type": "code",
   "execution_count": null,
   "metadata": {},
   "outputs": [],
   "source": [
    "!elastic-blast delete --cfg {conf_file}"
   ]
  },
  {
   "cell_type": "markdown",
   "metadata": {},
   "source": [
    "### Delete cloud bucket\n",
    "If you do not need BLAST search results stored in the cloud, delete the cloud bucket so that you are not charged for it."
   ]
  },
  {
   "cell_type": "code",
   "execution_count": null,
   "metadata": {},
   "outputs": [],
   "source": [
    "!aws s3 rb s3://{RESULTS_BUCKET} --force"
   ]
  },
  {
   "cell_type": "markdown",
   "metadata": {},
   "source": [
    "## Optional: Delete elastic-blast-janitor role\n",
    "Deleting this role will disable Elastic-BLAST auto-shutdown feature. You are not paying for this role. It can be reused in future Elastic-BLAST searches."
   ]
  },
  {
   "cell_type": "code",
   "execution_count": null,
   "metadata": {},
   "outputs": [],
   "source": [
    "!sed -i~ -e '/export PATH/d' $(which aws-delete-elastic-blast-janitor-role.sh)\n",
    "!aws-delete-elastic-blast-janitor-role.sh"
   ]
  }
 ],
 "metadata": {
  "kernelspec": {
   "display_name": "Python 3 (ipykernel)",
   "language": "python",
   "name": "python3"
  },
  "language_info": {
   "codemirror_mode": {
    "name": "ipython",
    "version": 3
   },
   "file_extension": ".py",
   "mimetype": "text/x-python",
   "name": "python",
   "nbconvert_exporter": "python",
   "pygments_lexer": "ipython3",
   "version": "3.8.12"
  }
 },
 "nbformat": 4,
 "nbformat_minor": 4
}
